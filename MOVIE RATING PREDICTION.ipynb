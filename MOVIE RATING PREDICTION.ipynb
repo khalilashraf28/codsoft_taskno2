{
 "cells": [
  {
   "cell_type": "markdown",
   "id": "af756ceb",
   "metadata": {},
   "source": [
    "# MOVIE RATING PREDICTION WITH PYTHON"
   ]
  },
  {
   "cell_type": "markdown",
   "id": "b48db0d9",
   "metadata": {},
   "source": [
    "CodSoft Data Science internship Task 2"
   ]
  },
  {
   "cell_type": "code",
   "execution_count": null,
   "id": "41fc04a3",
   "metadata": {},
   "outputs": [],
   "source": [
    "import pandas as pd\n",
    "import numpy as np\n",
    "import matplotlib.pyplot as plt\n",
    "import seaborn as sns"
   ]
  },
  {
   "cell_type": "markdown",
   "id": "d0b17a73",
   "metadata": {},
   "source": [
    "## Reading Data"
   ]
  },
  {
   "cell_type": "code",
   "execution_count": null,
   "id": "596505b4",
   "metadata": {},
   "outputs": [],
   "source": [
    "data = pd.read_csv('IMDb Movies India.csv', encoding='latin1')"
   ]
  },
  {
   "cell_type": "code",
   "execution_count": null,
   "id": "00d116cd",
   "metadata": {},
   "outputs": [],
   "source": [
    "data.shape"
   ]
  },
  {
   "cell_type": "code",
   "execution_count": null,
   "id": "10dcdd57",
   "metadata": {},
   "outputs": [],
   "source": [
    "data.head()"
   ]
  },
  {
   "cell_type": "code",
   "execution_count": null,
   "id": "26c1b8b6",
   "metadata": {},
   "outputs": [],
   "source": [
    "data.tail()"
   ]
  },
  {
   "cell_type": "code",
   "execution_count": null,
   "id": "4cd4a48f",
   "metadata": {},
   "outputs": [],
   "source": [
    "data.info()"
   ]
  },
  {
   "cell_type": "code",
   "execution_count": null,
   "id": "f1ec5d86",
   "metadata": {},
   "outputs": [],
   "source": [
    "data.isna().sum()"
   ]
  },
  {
   "cell_type": "code",
   "execution_count": null,
   "id": "2f3a1949",
   "metadata": {},
   "outputs": [],
   "source": [
    "data.dropna(subset=['Rating','Actor 1','Actor 2','Actor 3','Director','Genre'],inplace=True)"
   ]
  },
  {
   "cell_type": "code",
   "execution_count": null,
   "id": "aac7e2b3",
   "metadata": {},
   "outputs": [],
   "source": [
    "data.isna().sum()"
   ]
  },
  {
   "cell_type": "code",
   "execution_count": null,
   "id": "ddf6c895",
   "metadata": {},
   "outputs": [],
   "source": [
    "data.shape"
   ]
  },
  {
   "cell_type": "code",
   "execution_count": null,
   "id": "0801e529",
   "metadata": {},
   "outputs": [],
   "source": [
    "data.head()"
   ]
  },
  {
   "cell_type": "code",
   "execution_count": null,
   "id": "f85da2ae",
   "metadata": {},
   "outputs": [],
   "source": [
    "data['Year'] = data['Year'].str.strip('()').astype(int)"
   ]
  },
  {
   "cell_type": "code",
   "execution_count": null,
   "id": "7b13277c",
   "metadata": {},
   "outputs": [],
   "source": [
    "data['Votes'] = data['Votes'].str.replace(',','').astype(int)"
   ]
  },
  {
   "cell_type": "code",
   "execution_count": null,
   "id": "359617cd",
   "metadata": {},
   "outputs": [],
   "source": [
    "data['Duration'] = data['Duration'].str.strip(' min')"
   ]
  },
  {
   "cell_type": "code",
   "execution_count": null,
   "id": "cb95dd68",
   "metadata": {},
   "outputs": [],
   "source": [
    "data.head()"
   ]
  },
  {
   "cell_type": "code",
   "execution_count": null,
   "id": "e4fc5545",
   "metadata": {},
   "outputs": [],
   "source": [
    "data['Duration_copy']= data['Duration']\n",
    "mask = data['Duration'].isnull()\n",
    "random_values = np.random.randint(90,190,size=mask.sum())\n",
    "data['Duration'][mask] = random_values\n",
    "orignal_duration = data.loc[~data['Duration_copy'].isnull(),'Duration_copy'].astype(int)\n",
    "data['Duration'] = data['Duration'].astype(int)"
   ]
  },
  {
   "cell_type": "code",
   "execution_count": null,
   "id": "9e8cb158",
   "metadata": {},
   "outputs": [],
   "source": [
    "sns.set_style('darkgrid')\n",
    "plt.figure(figsize=(15, 10))\n",
    "plt.subplot(2, 2, 1)\n",
    "sns.histplot(data=orignal_duration, bins=20, kde=True)\n",
    "plt.xlabel('Duration in mintues')\n",
    "plt.title('original distribution of duration of movies')\n",
    "plt.subplot(2, 2, 2)\n",
    "sns.histplot(data=data, x=data['Duration_copy'].fillna(orignal_duration.mean()).astype(int), bins=20, kde=True)\n",
    "plt.xlabel('Duration in mintues')\n",
    "plt.title('missing values filled with mean')\n",
    "plt.subplot(2, 2, 3)\n",
    "sns.histplot(data=data, x='Duration', bins=20, kde=True)\n",
    "plt.xlabel('Duration in mintues')\n",
    "plt.title('missing values filled with random values between 90 and 180')\n",
    "plt.show()"
   ]
  },
  {
   "cell_type": "code",
   "execution_count": null,
   "id": "5913f647",
   "metadata": {},
   "outputs": [],
   "source": [
    "data.drop(columns=['Duration_copy'],inplace=True)"
   ]
  },
  {
   "cell_type": "code",
   "execution_count": null,
   "id": "c5aec7b5",
   "metadata": {},
   "outputs": [],
   "source": [
    "data.info()"
   ]
  },
  {
   "cell_type": "markdown",
   "id": "b1eabc49",
   "metadata": {},
   "source": [
    "## Exploratory Data Analysis"
   ]
  },
  {
   "cell_type": "code",
   "execution_count": null,
   "id": "6786d02a",
   "metadata": {},
   "outputs": [],
   "source": [
    "top_movie = data.loc[data['Rating'].sort_values(ascending=False)[:10].index]\n",
    "top_movie"
   ]
  },
  {
   "cell_type": "code",
   "execution_count": null,
   "id": "80528e27",
   "metadata": {},
   "outputs": [],
   "source": [
    "data.groupby('Year').apply(pd.DataFrame.nlargest,n=1,columns=['Rating'])"
   ]
  },
  {
   "cell_type": "code",
   "execution_count": null,
   "id": "1a5c5025",
   "metadata": {},
   "outputs": [],
   "source": [
    "sns.set_style('darkgrid')\n",
    "data.groupby('Year')[['Rating']].mean().plot(figsize=(15,5))\n",
    "plt.xlabel('Year')\n",
    "plt.ylabel('Rating')\n",
    "plt.title('Average movie ratings by year')\n",
    "plt.xticks(np.arange(1917,2023,5))\n",
    "plt.xlim(1917,2023)\n",
    "plt.show()"
   ]
  },
  {
   "cell_type": "code",
   "execution_count": null,
   "id": "bd8716f6",
   "metadata": {},
   "outputs": [],
   "source": [
    "fig,ax1 = plt.subplots(figsize=(15,6))\n",
    "sns.lineplot(data=data,x='Year',y='Votes',errorbar=None,ax=ax1,label='Average Votes',color='#2ca02c')\n",
    "ax1.set_xlabel('Year')\n",
    "ax1.set_ylabel('Average Votes')\n",
    "ax1.set_xlim(1917,2023)\n",
    "ax1.set_ylim(0,10000)\n",
    "ax1.set_xticks(np.arange(1917,2023,5))\n",
    "ax2 = ax1.twinx()\n",
    "sns.lineplot(data=data,x='Year',y='Rating',errorbar=None,ax=ax2,color='#17becf',label='Average Rating')\n",
    "ax2.set_ylabel('Average Rating')\n",
    "ax2.set_ylim(4,8)\n",
    "lines, labels = ax1.get_legend_handles_labels()\n",
    "lines2, labels2 = ax2.get_legend_handles_labels()\n",
    "ax2.legend(lines + lines2, labels + labels2, loc='upper left')\n",
    "plt.show()"
   ]
  },
  {
   "cell_type": "code",
   "execution_count": null,
   "id": "1e6b050d",
   "metadata": {},
   "outputs": [],
   "source": [
    "sns.set_style('darkgrid')\n",
    "data.groupby(['Year'])['Name'].count().plot(figsize=(15,5))\n",
    "plt.xlabel('Year')\n",
    "plt.ylabel('Number of movies')\n",
    "plt.title('Number of movies released every year')\n",
    "plt.ylim(0,250)\n",
    "plt.xlim(1917,2023)\n",
    "plt.xticks(np.arange(1917,2023,5))\n",
    "plt.show()"
   ]
  },
  {
   "cell_type": "code",
   "execution_count": null,
   "id": "6f057cc2",
   "metadata": {},
   "outputs": [],
   "source": [
    "sns.set_style('darkgrid')\n",
    "fig,ax1 = plt.subplots(figsize=(15,6))\n",
    "data.groupby(['Year'])['Name'].count().plot(ax=ax1,label='Number of movies')\n",
    "ax1.set_xlabel('Year')\n",
    "ax1.set_ylabel('Number of movies')\n",
    "ax1.set_ylim(0,250)\n",
    "ax1.set_xlim(1917,2023)\n",
    "ax1.set_xticks(np.arange(1917,2023,5))\n",
    "ax2=ax1.twinx()\n",
    "data.groupby('Year')[['Rating']].mean().plot(ax=ax2,color='#17becf',label='Average rating')\n",
    "ax2.set_ylabel('Average Rating')\n",
    "lines, labels = ax1.get_legend_handles_labels()\n",
    "lines2, labels2 = ax2.get_legend_handles_labels()\n",
    "ax2.legend(lines + lines2, labels + labels2, loc='upper left')\n",
    "plt.show()"
   ]
  },
  {
   "cell_type": "code",
   "execution_count": null,
   "id": "ad4820b5",
   "metadata": {},
   "outputs": [],
   "source": [
    "sns.set_style('darkgrid')\n",
    "plt.figure(figsize=(15,5))\n",
    "sns.lineplot(data=data,x='Rating',y='Votes',errorbar=None)\n",
    "plt.xlabel('Rating')\n",
    "plt.ylabel('Average Votes')\n",
    "plt.xticks(np.arange(0,10.5,0.5))\n",
    "plt.title('Average votes for each rating')\n",
    "plt.show()"
   ]
  },
  {
   "cell_type": "code",
   "execution_count": null,
   "id": "0ec86d7f",
   "metadata": {},
   "outputs": [],
   "source": [
    "sns.set_style('darkgrid')\n",
    "d = data.loc[(data['Rating']>8) & (data['Votes']>10000), ['Rating','Votes','Name']]\n",
    "plt.figure(figsize=(15, 6))\n",
    "ax=sns.barplot(data=d,x='Name',y='Votes',hue='Rating',dodge=False,width=0.5,palette='muted')\n",
    "ax.set_xticklabels(ax.get_xticklabels(), rotation=90, ha='right')\n",
    "ax.legend(loc='upper right')\n",
    "ax.set_xlabel('Movie Name')\n",
    "ax.set_ylabel('Votes')\n",
    "ax.set_title('Movies with rating greater than 8 and votes greater than 10000')\n",
    "plt.show()"
   ]
  },
  {
   "cell_type": "code",
   "execution_count": null,
   "id": "e81f8c0a",
   "metadata": {},
   "outputs": [],
   "source": [
    "sns.set_style('darkgrid')\n",
    "plt.figure(figsize=(15, 6))\n",
    "sns.lineplot(data=data,x='Year',y='Duration',errorbar=None)\n",
    "plt.xlabel('Year')\n",
    "plt.ylabel('Duration in minutes')\n",
    "plt.title('Duration of movies by year')\n",
    "plt.xticks(np.arange(1917,2023,5))\n",
    "plt.show()"
   ]
  },
  {
   "cell_type": "code",
   "execution_count": null,
   "id": "9695289d",
   "metadata": {},
   "outputs": [],
   "source": [
    "fig,ax1 = plt.subplots(figsize=(15,6))\n",
    "sns.lineplot(data=data,x='Year',y='Duration',errorbar=None,ax=ax1,label='Average Duration')\n",
    "ax1.set_xlabel('Year')\n",
    "ax1.set_ylabel('Average Duration')\n",
    "ax1.set_xlim(1917,2023)\n",
    "ax1.set_xticks(np.arange(1917,2023,5))\n",
    "ax2 = ax1.twinx()\n",
    "sns.lineplot(data=data,x='Year',y='Rating',errorbar=None,ax=ax2,color='red',label='Average Rating')\n",
    "ax2.set_ylabel('Average Rating')\n",
    "lines, labels = ax1.get_legend_handles_labels()\n",
    "lines2, labels2 = ax2.get_legend_handles_labels()\n",
    "ax2.legend(lines + lines2, labels + labels2, loc='upper right')\n",
    "plt.show()"
   ]
  },
  {
   "cell_type": "code",
   "execution_count": null,
   "id": "227a3308",
   "metadata": {},
   "outputs": [],
   "source": [
    "genre_data = data.groupby('Genre').agg({'Rating':['mean','count']})\n",
    "genre_data.reset_index(inplace=True)\n",
    "genre_data.columns = ['Genre','Average Rating','Movie Count']\n",
    "genre_data['Average Rating'] = genre_data['Average Rating'].round(1)\n",
    "genre_data"
   ]
  },
  {
   "cell_type": "code",
   "execution_count": null,
   "id": "251bf060",
   "metadata": {},
   "outputs": [],
   "source": [
    "genre_dict = dict(zip(genre_data['Genre'],genre_data['Average Rating']))"
   ]
  },
  {
   "cell_type": "code",
   "execution_count": null,
   "id": "2abc1dc3",
   "metadata": {},
   "outputs": [],
   "source": [
    "directors  = data.groupby('Director').agg({'Rating':['mean','count']})\n",
    "directors.columns = directors.columns.droplevel(0)\n",
    "directors.reset_index(inplace=True)\n",
    "directors.columns = ['Director','Average Rating','Movie count']\n",
    "directors['Average Rating'] = directors['Average Rating'].round(1)\n",
    "directors.sort_values(by='Movie count',ascending=False,inplace=True)\n",
    "directors.head()"
   ]
  },
  {
   "cell_type": "code",
   "execution_count": null,
   "id": "ed5916cc",
   "metadata": {},
   "outputs": [],
   "source": [
    "directors_dict = dict(zip(directors['Director'],directors['Average Rating']))"
   ]
  },
  {
   "cell_type": "code",
   "execution_count": null,
   "id": "50a0c138",
   "metadata": {},
   "outputs": [],
   "source": [
    "data_melted = data.melt(id_vars='Rating', value_name='actor', var_name='role', value_vars=['Actor 1', 'Actor 2', 'Actor 3'])\n",
    "actor_scores = data_melted.groupby('actor')['Rating'].agg(['mean', 'count'])\n",
    "actor_scores.reset_index(inplace=True)\n",
    "actor_scores.columns = ['Actor','Average Score', 'Number of movies']\n",
    "actor_scores.sort_values('Number of movies', ascending=False, inplace=True)\n",
    "actor_scores['Average Score']=actor_scores['Average Score'].round(1)\n",
    "actor_scores"
   ]
  },
  {
   "cell_type": "code",
   "execution_count": null,
   "id": "d8537231",
   "metadata": {},
   "outputs": [],
   "source": [
    "actor_score_dict = dict(zip(actor_scores['Actor'], actor_scores['Average Score']))"
   ]
  },
  {
   "cell_type": "markdown",
   "id": "b9fb1f18",
   "metadata": {},
   "source": [
    "## Data Preprocessing"
   ]
  },
  {
   "cell_type": "code",
   "execution_count": null,
   "id": "470660e2",
   "metadata": {},
   "outputs": [],
   "source": [
    "num_columns = list(data.select_dtypes(include=np.number).columns)\n",
    "num=int(len(num_columns)/2) if int(len(num_columns)/2)>1 else 2\n",
    "fig ,ax = plt.subplots(num,num,figsize=(12,10))\n",
    "for j in range(num):\n",
    "    for i in range(num):\n",
    "        try:\n",
    "            sns.histplot(data=data,x=num_columns[0],kde=True,bins=20,ax=ax[j][i])\n",
    "            num_columns.pop(0)\n",
    "        except:\n",
    "            fig.delaxes(ax=ax[j][i])\n",
    "fig.suptitle('Histograms of numerical columns', fontsize=16)\n",
    "plt.show()"
   ]
  },
  {
   "cell_type": "code",
   "execution_count": null,
   "id": "db71ddda",
   "metadata": {},
   "outputs": [],
   "source": [
    "num_columns = list(data.select_dtypes(include=np.number).columns)\n",
    "num=int(len(num_columns)/2) if int(len(num_columns)/2)>1 else 2\n",
    "fig ,ax = plt.subplots(num,num,figsize=(12,10))\n",
    "for j in range(num):\n",
    "    for i in range(num):\n",
    "        try:\n",
    "            sns.boxplot(data=data,x=num_columns[0],ax=ax[j][i])\n",
    "            num_columns.pop(0)\n",
    "        except:\n",
    "            fig.delaxes(ax=ax[j][i])\n",
    "fig.suptitle('Boxplots to show outliers', fontsize=16)\n",
    "plt.show()"
   ]
  },
  {
   "cell_type": "code",
   "execution_count": null,
   "id": "3eec521b",
   "metadata": {},
   "outputs": [],
   "source": [
    "from sklearn.preprocessing import StandardScaler,MinMaxScaler,FunctionTransformer,RobustScaler,PowerTransformer,QuantileTransformer\n",
    "num_data = data.select_dtypes(include=np.number)\n",
    "num_data"
   ]
  },
  {
   "cell_type": "code",
   "execution_count": null,
   "id": "70ed235f",
   "metadata": {},
   "outputs": [],
   "source": [
    "pt = PowerTransformer()\n",
    "num_data_pt = pd.DataFrame(pt.fit_transform(num_data),columns=num_data.columns)"
   ]
  },
  {
   "cell_type": "markdown",
   "id": "88c4f086",
   "metadata": {},
   "source": [
    "## Model Building"
   ]
  },
  {
   "cell_type": "code",
   "execution_count": null,
   "id": "8ead82b0",
   "metadata": {},
   "outputs": [],
   "source": [
    "from sklearn.model_selection import train_test_split\n",
    "from sklearn.linear_model import LinearRegression\n",
    "from sklearn.metrics import mean_squared_error,mean_absolute_error,r2_score"
   ]
  },
  {
   "cell_type": "code",
   "execution_count": null,
   "id": "62ddf052",
   "metadata": {},
   "outputs": [],
   "source": [
    "data_2 = data.drop(['Name'],axis=1)\n",
    "data_2['Genre'] = data_2['Genre'].map(genre_dict)\n",
    "data_2['Director'] = data_2['Director'].map(directors_dict)\n",
    "data_2['Actor 1'] = data_2['Actor 1'].map(actor_score_dict)\n",
    "data_2['Actor 2'] = data_2['Actor 2'].map(actor_score_dict)\n",
    "data_2['Actor 3'] = data_2['Actor 3'].map(actor_score_dict)\n",
    "data_2"
   ]
  },
  {
   "cell_type": "code",
   "execution_count": null,
   "id": "e2a1e1b2",
   "metadata": {},
   "outputs": [],
   "source": [
    "X=data_2.drop('Rating',axis=1)\n",
    "y=data_2['Rating']\n",
    "X_train,X_test,y_train,y_test = train_test_split(X,y,test_size=0.2,random_state=42)\n",
    "lr = LinearRegression()\n",
    "lr.fit(X_train,y_train)\n",
    "y_pred = lr.predict(X_test)\n",
    "print('Mean squared error: ',mean_squared_error(y_test,y_pred))\n",
    "print('Mean absolute error: ',mean_absolute_error(y_test,y_pred))\n",
    "print('R2 score: ',r2_score(y_test,y_pred))"
   ]
  },
  {
   "cell_type": "code",
   "execution_count": null,
   "id": "91429da5",
   "metadata": {},
   "outputs": [],
   "source": [
    "from sklearn.model_selection import cross_val_score\n",
    "from sklearn import svm\n",
    "X=data_2.drop('Rating',axis=1)\n",
    "y=data_2['Rating']\n",
    "# Assuming X and y are your data and labels\n",
    "lr = LinearRegression()\n",
    "scores = cross_val_score(lr, X, y, cv=5)\n",
    "# print(scores)\n",
    "print(\"%0.2f accuracy with a standard deviation of %0.2f\" % (scores.mean(), scores.std()))"
   ]
  },
  {
   "cell_type": "code",
   "execution_count": null,
   "id": "f720b2f8",
   "metadata": {},
   "outputs": [],
   "source": []
  }
 ],
 "metadata": {
  "kernelspec": {
   "display_name": "Python 3 (ipykernel)",
   "language": "python",
   "name": "python3"
  },
  "language_info": {
   "codemirror_mode": {
    "name": "ipython",
    "version": 3
   },
   "file_extension": ".py",
   "mimetype": "text/x-python",
   "name": "python",
   "nbconvert_exporter": "python",
   "pygments_lexer": "ipython3",
   "version": "3.10.9"
  }
 },
 "nbformat": 4,
 "nbformat_minor": 5
}
